{
 "cells": [
  {
   "cell_type": "code",
   "execution_count": 11,
   "id": "867c214e-e409-4a18-ab69-17d51d2ff5a4",
   "metadata": {},
   "outputs": [
    {
     "data": {
      "text/html": [
       "<div>\n",
       "<style scoped>\n",
       "    .dataframe tbody tr th:only-of-type {\n",
       "        vertical-align: middle;\n",
       "    }\n",
       "\n",
       "    .dataframe tbody tr th {\n",
       "        vertical-align: top;\n",
       "    }\n",
       "\n",
       "    .dataframe thead th {\n",
       "        text-align: right;\n",
       "    }\n",
       "</style>\n",
       "<table border=\"1\" class=\"dataframe\">\n",
       "  <thead>\n",
       "    <tr style=\"text-align: right;\">\n",
       "      <th></th>\n",
       "      <th>Task ID</th>\n",
       "      <th>Priority</th>\n",
       "      <th>Latency</th>\n",
       "      <th>Processing Requirements</th>\n",
       "      <th>Execution Node</th>\n",
       "      <th>Actual Execution Time (ms)</th>\n",
       "    </tr>\n",
       "  </thead>\n",
       "  <tbody>\n",
       "    <tr>\n",
       "      <th>0</th>\n",
       "      <td>1</td>\n",
       "      <td>High</td>\n",
       "      <td>Low</td>\n",
       "      <td>High</td>\n",
       "      <td>Fog</td>\n",
       "      <td>50</td>\n",
       "    </tr>\n",
       "    <tr>\n",
       "      <th>1</th>\n",
       "      <td>2</td>\n",
       "      <td>Medium</td>\n",
       "      <td>Medium</td>\n",
       "      <td>Medium</td>\n",
       "      <td>Cloud</td>\n",
       "      <td>200</td>\n",
       "    </tr>\n",
       "    <tr>\n",
       "      <th>2</th>\n",
       "      <td>3</td>\n",
       "      <td>Low</td>\n",
       "      <td>High</td>\n",
       "      <td>Low</td>\n",
       "      <td>Fog</td>\n",
       "      <td>30</td>\n",
       "    </tr>\n",
       "    <tr>\n",
       "      <th>3</th>\n",
       "      <td>4</td>\n",
       "      <td>High</td>\n",
       "      <td>Low</td>\n",
       "      <td>High</td>\n",
       "      <td>Fog</td>\n",
       "      <td>60</td>\n",
       "    </tr>\n",
       "    <tr>\n",
       "      <th>4</th>\n",
       "      <td>5</td>\n",
       "      <td>Low</td>\n",
       "      <td>Medium</td>\n",
       "      <td>Medium</td>\n",
       "      <td>Cloud</td>\n",
       "      <td>150</td>\n",
       "    </tr>\n",
       "    <tr>\n",
       "      <th>5</th>\n",
       "      <td>6</td>\n",
       "      <td>Medium</td>\n",
       "      <td>High</td>\n",
       "      <td>Low</td>\n",
       "      <td>Cloud</td>\n",
       "      <td>120</td>\n",
       "    </tr>\n",
       "    <tr>\n",
       "      <th>6</th>\n",
       "      <td>7</td>\n",
       "      <td>High</td>\n",
       "      <td>Low</td>\n",
       "      <td>High</td>\n",
       "      <td>Fog</td>\n",
       "      <td>55</td>\n",
       "    </tr>\n",
       "    <tr>\n",
       "      <th>7</th>\n",
       "      <td>8</td>\n",
       "      <td>Low</td>\n",
       "      <td>Medium</td>\n",
       "      <td>Medium</td>\n",
       "      <td>Cloud</td>\n",
       "      <td>180</td>\n",
       "    </tr>\n",
       "    <tr>\n",
       "      <th>8</th>\n",
       "      <td>9</td>\n",
       "      <td>Medium</td>\n",
       "      <td>High</td>\n",
       "      <td>Low</td>\n",
       "      <td>Fog</td>\n",
       "      <td>40</td>\n",
       "    </tr>\n",
       "    <tr>\n",
       "      <th>9</th>\n",
       "      <td>10</td>\n",
       "      <td>High</td>\n",
       "      <td>Low</td>\n",
       "      <td>High</td>\n",
       "      <td>Fog</td>\n",
       "      <td>70</td>\n",
       "    </tr>\n",
       "  </tbody>\n",
       "</table>\n",
       "</div>"
      ],
      "text/plain": [
       "   Task ID Priority Latency Processing Requirements Execution Node   \n",
       "0        1     High     Low                    High            Fog  \\\n",
       "1        2   Medium  Medium                  Medium          Cloud   \n",
       "2        3      Low    High                     Low            Fog   \n",
       "3        4     High     Low                    High            Fog   \n",
       "4        5      Low  Medium                  Medium          Cloud   \n",
       "5        6   Medium    High                     Low          Cloud   \n",
       "6        7     High     Low                    High            Fog   \n",
       "7        8      Low  Medium                  Medium          Cloud   \n",
       "8        9   Medium    High                     Low            Fog   \n",
       "9       10     High     Low                    High            Fog   \n",
       "\n",
       "   Actual Execution Time (ms)  \n",
       "0                          50  \n",
       "1                         200  \n",
       "2                          30  \n",
       "3                          60  \n",
       "4                         150  \n",
       "5                         120  \n",
       "6                          55  \n",
       "7                         180  \n",
       "8                          40  \n",
       "9                          70  "
      ]
     },
     "execution_count": 11,
     "metadata": {},
     "output_type": "execute_result"
    }
   ],
   "source": [
    "import pandas as pd\n",
    "import math\n",
    "\n",
    "   \n",
    "df = pd.read_csv('E:\\Task scheduling project\\priority.csv')\n",
    "df.head(10)"
   ]
  },
  {
   "cell_type": "code",
   "execution_count": 23,
   "id": "727d7db2-1ea2-46ad-9267-6b1e7674a106",
   "metadata": {},
   "outputs": [
    {
     "name": "stdout",
     "output_type": "stream",
     "text": [
      "Unique values in 'Execution Node' column: ['Fog' 'Cloud']\n",
      "Entropy of the entire dataset: 0.9710\n"
     ]
    }
   ],
   "source": [
    "# Load the dataset\n",
    "df = pd.read_csv('E:\\\\Task scheduling project\\\\priority.csv')\n",
    "\n",
    "# Check the unique values in the 'Execution Node' column\n",
    "print(\"Unique values in 'Execution Node' column:\", df['Execution Node'].unique())\n",
    "\n",
    "# Calculate the probabilities for each class\n",
    "class_counts = df['Execution Node'].value_counts()\n",
    "total_samples = len(df)\n",
    "probabilities = class_counts / total_samples\n",
    "\n",
    "# Ensure probabilities sum to 1\n",
    "probabilities_sum = probabilities.sum()\n",
    "if probabilities_sum != 1:\n",
    "    probabilities /= probabilities_sum\n",
    "\n",
    "# Calculate entropy\n",
    "initial_entropy = -sum(prob * math.log2(prob) for prob in probabilities)\n",
    "\n",
    "print(f\"Entropy of the entire dataset: {initial_entropy:.4f}\")"
   ]
  },
  {
   "cell_type": "code",
   "execution_count": 21,
   "id": "79da0f3c-5797-43f2-b6b5-0176feef8ac0",
   "metadata": {},
   "outputs": [
    {
     "name": "stdout",
     "output_type": "stream",
     "text": [
      "Entropy of 'Execution Node' for 'Priority' High: -0.0000\n",
      "Entropy of 'Execution Node' for 'Priority' Medium: 0.9183\n",
      "Entropy of 'Execution Node' for 'Priority' Low: 0.9183\n"
     ]
    }
   ],
   "source": [
    "unique_priorities = df['Priority'].unique()\n",
    "\n",
    "for priority_value in unique_priorities:\n",
    "    subset = df[df['Priority'] == priority_value]\n",
    "    subset_size = len(subset)\n",
    "    \n",
    "    # Calculate the probabilities for each class within the subset\n",
    "    class_counts = subset['Execution Node'].value_counts()\n",
    "    probabilities = class_counts / subset_size\n",
    "    \n",
    "    # Calculate entropy for the current priority value\n",
    "    entropy = -sum(prob * math.log2(prob) for prob in probabilities)\n",
    "    \n",
    "    print(f\"Entropy of 'Execution Node' for 'Priority' {priority_value}: {entropy:.4f}\")"
   ]
  },
  {
   "cell_type": "code",
   "execution_count": 25,
   "id": "52124cbc-aca1-4bf0-99f2-f2be617bc04f",
   "metadata": {},
   "outputs": [
    {
     "name": "stdout",
     "output_type": "stream",
     "text": [
      "Information Gain for 'Priority': 0.4200\n"
     ]
    }
   ],
   "source": [
    "# Calculate the entropy of the entire dataset\n",
    "def calculate_entropy(data):\n",
    "    class_counts = data['Execution Node'].value_counts()\n",
    "    probabilities = class_counts / len(data)\n",
    "    entropy = -sum(prob * math.log2(prob) for prob in probabilities)\n",
    "    return entropy\n",
    "\n",
    "initial_entropy = calculate_entropy(df)\n",
    "\n",
    "# Calculate the information gain for the \"Priority\" attribute\n",
    "def calculate_information_gain(data, attribute):\n",
    "    unique_values = data[attribute].unique()\n",
    "    weighted_entropy_after_split = 0\n",
    "\n",
    "    for value in unique_values:\n",
    "        subset = data[data[attribute] == value]\n",
    "        subset_weight = len(subset) / len(data)\n",
    "        weighted_entropy_after_split += subset_weight * calculate_entropy(subset)\n",
    "\n",
    "    information_gain = initial_entropy - weighted_entropy_after_split\n",
    "    return information_gain\n",
    "\n",
    "# Calculate information gain for the \"Priority\" attribute\n",
    "information_gain_priority = calculate_information_gain(df, 'Priority')\n",
    "\n",
    "print(f\"Information Gain for 'Priority': {information_gain_priority:.4f}\")"
   ]
  },
  {
   "cell_type": "code",
   "execution_count": 26,
   "id": "eae99044-882c-4c93-9640-0ce0f8af77d1",
   "metadata": {},
   "outputs": [
    {
     "data": {
      "text/plain": [
       "0.6954618442383218"
      ]
     },
     "execution_count": 26,
     "metadata": {},
     "output_type": "execute_result"
    }
   ],
   "source": [
    "# Calculate information gain for the \"Latency\" attribute\n",
    "information_gain_latency = calculate_information_gain(df, 'Latency')\n",
    "information_gain_latency"
   ]
  },
  {
   "cell_type": "code",
   "execution_count": 30,
   "id": "c7742882-7cf6-4c4a-8bba-632c0fc0e0c6",
   "metadata": {},
   "outputs": [
    {
     "data": {
      "text/plain": [
       "0.6954618442383218"
      ]
     },
     "execution_count": 30,
     "metadata": {},
     "output_type": "execute_result"
    }
   ],
   "source": [
    "information_gain_processing_requirements = calculate_information_gain(df, 'Processing Requirements')\n",
    "information_gain_processing_requirements"
   ]
  },
  {
   "cell_type": "code",
   "execution_count": 32,
   "id": "0afabb3a-4123-408f-a93d-0219fd885742",
   "metadata": {},
   "outputs": [
    {
     "data": {
      "text/plain": [
       "0.4199730940219749"
      ]
     },
     "execution_count": 32,
     "metadata": {},
     "output_type": "execute_result"
    }
   ],
   "source": [
    "information_gain_priority"
   ]
  },
  {
   "cell_type": "code",
   "execution_count": 33,
   "id": "82ab0000-ea0e-4698-8d5d-f807c5219fd5",
   "metadata": {},
   "outputs": [
    {
     "data": {
      "text/plain": [
       "0.6954618442383218"
      ]
     },
     "execution_count": 33,
     "metadata": {},
     "output_type": "execute_result"
    }
   ],
   "source": [
    "information_gain_latency"
   ]
  },
  {
   "cell_type": "code",
   "execution_count": 34,
   "id": "4b3b5d46-993e-4197-9af8-f80db46157d5",
   "metadata": {},
   "outputs": [
    {
     "data": {
      "text/plain": [
       "0.6954618442383218"
      ]
     },
     "execution_count": 34,
     "metadata": {},
     "output_type": "execute_result"
    }
   ],
   "source": [
    "information_gain_processing_requirements"
   ]
  },
  {
   "cell_type": "code",
   "execution_count": 36,
   "id": "13b3121d-10ce-4b83-91e2-41aa7ee92901",
   "metadata": {},
   "outputs": [
    {
     "name": "stdout",
     "output_type": "stream",
     "text": [
      "0.4199730940219749\n",
      "0.6954618442383218\n",
      "0.6954618442383218\n"
     ]
    }
   ],
   "source": [
    "print(information_gain_priority)\n",
    "print(information_gain_latency)\n",
    "print(information_gain_processing_requirements)"
   ]
  },
  {
   "cell_type": "code",
   "execution_count": null,
   "id": "3d509eda-78ab-41ec-86b7-5ad79e2fa296",
   "metadata": {},
   "outputs": [],
   "source": []
  },
  {
   "cell_type": "code",
   "execution_count": null,
   "id": "30b49d9a-964a-446c-b33d-4f0aabaf6d1e",
   "metadata": {},
   "outputs": [],
   "source": []
  }
 ],
 "metadata": {
  "kernelspec": {
   "display_name": "Python 3 (ipykernel)",
   "language": "python",
   "name": "python3"
  },
  "language_info": {
   "codemirror_mode": {
    "name": "ipython",
    "version": 3
   },
   "file_extension": ".py",
   "mimetype": "text/x-python",
   "name": "python",
   "nbconvert_exporter": "python",
   "pygments_lexer": "ipython3",
   "version": "3.11.3"
  }
 },
 "nbformat": 4,
 "nbformat_minor": 5
}
